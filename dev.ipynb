{
 "cells": [
  {
   "cell_type": "code",
   "execution_count": 1,
   "metadata": {},
   "outputs": [],
   "source": [
    "import numpy as np\n",
    "import tensorflow as tf\n",
    "from mtcnn.mtcnn import MTCNN\n",
    "import PIL\n",
    "import os\n",
    "from numpy import linalg as LA\n",
    "import pickle"
   ]
  },
  {
   "cell_type": "code",
   "execution_count": 2,
   "metadata": {},
   "outputs": [
    {
     "name": "stderr",
     "output_type": "stream",
     "text": [
      "WARNING: Logging before flag parsing goes to stderr.\n",
      "W0308 18:59:28.624626 4700659136 hdf5_format.py:221] No training configuration found in save file: the model was *not* compiled. Compile it manually.\n"
     ]
    }
   ],
   "source": [
    "model = tf.keras.models.load_model(\"facenet_keras.h5\")\n",
    "for layer in model.layers:\n",
    "    layer.trainable=False"
   ]
  },
  {
   "cell_type": "code",
   "execution_count": 3,
   "metadata": {},
   "outputs": [],
   "source": [
    "def get_face_array(img_path):\n",
    "    image = PIL.Image.open(img_path)\n",
    "    image = image.convert('RGB')\n",
    "    pixels = np.asarray(image)\n",
    "    detector = MTCNN()\n",
    "    results = detector.detect_faces(pixels)\n",
    "    x1, y1, width, height = results[0]['box']\n",
    "    x1, y1 = abs(x1), abs(y1)\n",
    "    x2, y2 = x1 + width, y1 + height\n",
    "    face = pixels[y1:y2, x1:x2]\n",
    "    image = PIL.Image.fromarray(face)\n",
    "    image = image.resize((160, 160))\n",
    "    face_array = np.asarray(image)\n",
    "    mean, std = face_array.mean(), face_array.std()\n",
    "    face_array = (face_array - mean) / std\n",
    "    return np.expand_dims(face_array, axis=0).astype(\"float32\")"
   ]
  },
  {
   "cell_type": "code",
   "execution_count": 4,
   "metadata": {},
   "outputs": [],
   "source": [
    "def get_face_embedding(face_ary, model):\n",
    "    return model.predict(face_ary)"
   ]
  },
  {
   "cell_type": "code",
   "execution_count": 28,
   "metadata": {},
   "outputs": [],
   "source": [
    "d1 = {}\n",
    "dir_path = \"/Users/zetong/Desktop/buddhas_eagle/\"\n",
    "for file in os.listdir(\"/Users/zetong/Desktop/buddhas_eagle/user_database/img_database1\"):\n",
    "    if \"jpg\" in file:\n",
    "        idx = file.replace(\".jpg\", \"\")\n",
    "        d1[idx] = get_face_embedding(get_face_array(dir_path + \"user_database/img_database1/\" + file), model)\n",
    "\n",
    "d2 = {}\n",
    "dir_path = \"/Users/zetong/Desktop/buddhas_eagle/\"\n",
    "for file in os.listdir(\"/Users/zetong/Desktop/buddhas_eagle/user_database/img_database2\"):\n",
    "    if \"jpg\" in file:\n",
    "        idx = file.replace(\".jpg\", \"\")\n",
    "        d2[idx] = get_face_embedding(get_face_array(dir_path + \"user_database/img_database2/\" + file), model)\n",
    "\n",
    "d3 = {}\n",
    "dir_path = \"/Users/zetong/Desktop/buddhas_eagle/\"\n",
    "for file in os.listdir(\"/Users/zetong/Desktop/buddhas_eagle/user_database/img_database3\"):\n",
    "    if \"jpg\" in file:\n",
    "        idx = file.replace(\".jpg\", \"\")\n",
    "        d3[idx] = get_face_embedding(get_face_array(dir_path + \"user_database/img_database3/\" + file), model)"
   ]
  },
  {
   "cell_type": "code",
   "execution_count": 31,
   "metadata": {},
   "outputs": [],
   "source": [
    "d = {}\n",
    "for key in d1.keys():\n",
    "    d[key] = (d1[key] + d2[key] + d3[key]) / 3\n",
    "with open('d.pickle', 'wb') as handle:\n",
    "    pickle.dump(d, handle, protocol=pickle.HIGHEST_PROTOCOL)"
   ]
  },
  {
   "cell_type": "code",
   "execution_count": 17,
   "metadata": {},
   "outputs": [],
   "source": [
    "def search(dic, q):\n",
    "    vals = {}\n",
    "    for key in dic.keys():\n",
    "        vals[key] = LA.norm(dic[key] - q)\n",
    "    if vals[min(vals, key=vals.get)] >= 10:\n",
    "        return -1\n",
    "    else:\n",
    "        return min(vals, key=vals.get)"
   ]
  },
  {
   "cell_type": "code",
   "execution_count": 18,
   "metadata": {},
   "outputs": [
    {
     "data": {
      "text/plain": [
       "-1"
      ]
     },
     "execution_count": 18,
     "metadata": {},
     "output_type": "execute_result"
    }
   ],
   "source": [
    "qi = get_face_embedding(get_face_array(\"/Users/zetong/Desktop/amell.jpg\"), model)\n",
    "search(d, qi)"
   ]
  },
  {
   "cell_type": "code",
   "execution_count": 43,
   "metadata": {},
   "outputs": [],
   "source": [
    "users = {\"1\": \"Elon Musk\", \"2\": \"Tulsi Gabbard\", \"3\": \"Emma Watson\",\n",
    "        \"4\": \"Bruce Lee\", \"5\": \"Antony Starr\", \"6\": \"Zetong Qi\", \"NOT_REG\": \"NOT REGISTERED\", \"7\": \"Stephen Amell\"}\n",
    "with open('users.pickle', 'wb') as handle:\n",
    "    pickle.dump(users, handle, protocol=pickle.HIGHEST_PROTOCOL)"
   ]
  },
  {
   "cell_type": "code",
   "execution_count": 25,
   "metadata": {},
   "outputs": [
    {
     "data": {
      "text/plain": [
       "'1'"
      ]
     },
     "execution_count": 25,
     "metadata": {},
     "output_type": "execute_result"
    }
   ],
   "source": [
    "\"1.jpg\".replace(\".jpg\", \"\")"
   ]
  },
  {
   "cell_type": "code",
   "execution_count": null,
   "metadata": {},
   "outputs": [],
   "source": [
    "with open('users.pickle', 'wb') as handle:\n",
    "    pickle.dump(, handle, protocol=pickle.HIGHEST_PROTOCOL)"
   ]
  }
 ],
 "metadata": {
  "kernelspec": {
   "display_name": "Python 3",
   "language": "python",
   "name": "python3"
  },
  "language_info": {
   "codemirror_mode": {
    "name": "ipython",
    "version": 3
   },
   "file_extension": ".py",
   "mimetype": "text/x-python",
   "name": "python",
   "nbconvert_exporter": "python",
   "pygments_lexer": "ipython3",
   "version": "3.6.8"
  }
 },
 "nbformat": 4,
 "nbformat_minor": 2
}
